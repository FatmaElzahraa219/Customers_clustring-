{
  "nbformat": 4,
  "nbformat_minor": 0,
  "metadata": {
    "colab": {
      "name": "Customers_clustring.ipynb",
      "provenance": []
    },
    "kernelspec": {
      "name": "python3",
      "display_name": "Python 3"
    }
  },
  "cells": [
    {
      "cell_type": "code",
      "metadata": {
        "id": "1mcD3SQeo4MB",
        "colab_type": "code",
        "colab": {}
      },
      "source": [
        "from google.colab import drive\n"
      ],
      "execution_count": 0,
      "outputs": []
    },
    {
      "cell_type": "code",
      "metadata": {
        "id": "nYcBBoLtzTYX",
        "colab_type": "code",
        "outputId": "fc581f00-bc55-464c-967c-a7727d908f3e",
        "colab": {
          "base_uri": "https://localhost:8080/",
          "height": 34
        }
      },
      "source": [
        "drive.mount('/gdrive')"
      ],
      "execution_count": 0,
      "outputs": [
        {
          "output_type": "stream",
          "text": [
            "Drive already mounted at /gdrive; to attempt to forcibly remount, call drive.mount(\"/gdrive\", force_remount=True).\n"
          ],
          "name": "stdout"
        }
      ]
    },
    {
      "cell_type": "code",
      "metadata": {
        "id": "7szYe6ZCzkNt",
        "colab_type": "code",
        "outputId": "75d1e172-0541-4887-aafc-fbad14432af6",
        "colab": {
          "base_uri": "https://localhost:8080/",
          "height": 34
        }
      },
      "source": [
        "cd .."
      ],
      "execution_count": 0,
      "outputs": [
        {
          "output_type": "stream",
          "text": [
            "/\n"
          ],
          "name": "stdout"
        }
      ]
    },
    {
      "cell_type": "code",
      "metadata": {
        "id": "EfnKQn20z-x-",
        "colab_type": "code",
        "outputId": "a7113899-2dad-46b2-e650-86a4592ff590",
        "colab": {
          "base_uri": "https://localhost:8080/",
          "height": 34
        }
      },
      "source": [
        "cd Clustring_dataset/"
      ],
      "execution_count": 0,
      "outputs": [
        {
          "output_type": "stream",
          "text": [
            "/gdrive/My Drive/Clustring_dataset\n"
          ],
          "name": "stdout"
        }
      ]
    },
    {
      "cell_type": "code",
      "metadata": {
        "id": "Dpp8tTo11iFX",
        "colab_type": "code",
        "colab": {}
      },
      "source": [
        "import random \n",
        "import numpy as np \n",
        "import matplotlib.pyplot as plt \n",
        "from sklearn.cluster import KMeans \n",
        "from sklearn.datasets.samples_generator import make_blobs \n",
        "%matplotlib inline"
      ],
      "execution_count": 0,
      "outputs": []
    },
    {
      "cell_type": "code",
      "metadata": {
        "id": "mO8h1HQF7nZc",
        "colab_type": "code",
        "outputId": "eb278806-0bfb-4219-a949-23b70083e727",
        "colab": {
          "base_uri": "https://localhost:8080/",
          "height": 195
        }
      },
      "source": [
        "import pandas as pd\n",
        "cust_df = pd.read_csv(\"Mall_Customers.csv\")\n",
        "cust_df.head()"
      ],
      "execution_count": 0,
      "outputs": [
        {
          "output_type": "execute_result",
          "data": {
            "text/html": [
              "<div>\n",
              "<style scoped>\n",
              "    .dataframe tbody tr th:only-of-type {\n",
              "        vertical-align: middle;\n",
              "    }\n",
              "\n",
              "    .dataframe tbody tr th {\n",
              "        vertical-align: top;\n",
              "    }\n",
              "\n",
              "    .dataframe thead th {\n",
              "        text-align: right;\n",
              "    }\n",
              "</style>\n",
              "<table border=\"1\" class=\"dataframe\">\n",
              "  <thead>\n",
              "    <tr style=\"text-align: right;\">\n",
              "      <th></th>\n",
              "      <th>CustomerID</th>\n",
              "      <th>Gender</th>\n",
              "      <th>Age</th>\n",
              "      <th>Annual Income (k$)</th>\n",
              "      <th>Spending Score (1-100)</th>\n",
              "    </tr>\n",
              "  </thead>\n",
              "  <tbody>\n",
              "    <tr>\n",
              "      <th>0</th>\n",
              "      <td>1</td>\n",
              "      <td>Male</td>\n",
              "      <td>19</td>\n",
              "      <td>15</td>\n",
              "      <td>39</td>\n",
              "    </tr>\n",
              "    <tr>\n",
              "      <th>1</th>\n",
              "      <td>2</td>\n",
              "      <td>Male</td>\n",
              "      <td>21</td>\n",
              "      <td>15</td>\n",
              "      <td>81</td>\n",
              "    </tr>\n",
              "    <tr>\n",
              "      <th>2</th>\n",
              "      <td>3</td>\n",
              "      <td>Female</td>\n",
              "      <td>20</td>\n",
              "      <td>16</td>\n",
              "      <td>6</td>\n",
              "    </tr>\n",
              "    <tr>\n",
              "      <th>3</th>\n",
              "      <td>4</td>\n",
              "      <td>Female</td>\n",
              "      <td>23</td>\n",
              "      <td>16</td>\n",
              "      <td>77</td>\n",
              "    </tr>\n",
              "    <tr>\n",
              "      <th>4</th>\n",
              "      <td>5</td>\n",
              "      <td>Female</td>\n",
              "      <td>31</td>\n",
              "      <td>17</td>\n",
              "      <td>40</td>\n",
              "    </tr>\n",
              "  </tbody>\n",
              "</table>\n",
              "</div>"
            ],
            "text/plain": [
              "   CustomerID  Gender  Age  Annual Income (k$)  Spending Score (1-100)\n",
              "0           1    Male   19                  15                      39\n",
              "1           2    Male   21                  15                      81\n",
              "2           3  Female   20                  16                       6\n",
              "3           4  Female   23                  16                      77\n",
              "4           5  Female   31                  17                      40"
            ]
          },
          "metadata": {
            "tags": []
          },
          "execution_count": 23
        }
      ]
    },
    {
      "cell_type": "code",
      "metadata": {
        "id": "ilBGIXfwI7XL",
        "colab_type": "code",
        "outputId": "d98472f8-ed8b-48ab-ff83-7d5ee0f2e70e",
        "colab": {
          "base_uri": "https://localhost:8080/",
          "height": 514
        }
      },
      "source": [
        "import seaborn as sns\n",
        "df_grpd = cust_df.groupby(\"Age\").count().reset_index()\n",
        "\n",
        "fig = plt.figure(figsize=(12, 8))\n",
        "sns.barplot(x=\"Age\", y=\"Annual Income (k$)\", data=df_grpd)"
      ],
      "execution_count": 0,
      "outputs": [
        {
          "output_type": "execute_result",
          "data": {
            "text/plain": [
              "<matplotlib.axes._subplots.AxesSubplot at 0x7f9d78891a58>"
            ]
          },
          "metadata": {
            "tags": []
          },
          "execution_count": 31
        },
        {
          "output_type": "display_data",
          "data": {
            "image/png": "[encoded data removed]",
            "text/plain": [
              "<Figure size 864x576 with 1 Axes>"
            ]
          },
          "metadata": {
            "tags": []
          }
        }
      ]
    },
    {
      "cell_type": "code",
      "metadata": {
        "id": "YSG3pdSENaul",
        "colab_type": "code",
        "outputId": "bb37e56e-4f3b-4d04-fc09-408d5b3cb5d1",
        "colab": {
          "base_uri": "https://localhost:8080/",
          "height": 514
        }
      },
      "source": [
        "cust_df.boxplot(column=\"Test_1\", vert=False) "
      ],
      "execution_count": 0,
      "outputs": [
        {
          "output_type": "execute_result",
          "data": {
            "text/plain": [
              "<matplotlib.axes._subplots.AxesSubplot at 0x7f9d785b0eb8>"
            ]
          },
          "metadata": {
            "tags": []
          },
          "execution_count": 40
        },
        {
          "output_type": "display_data",
          "data": {
            "image/png": "[encoded data removed]",
            "text/plain": [
              "<Figure size 864x576 with 1 Axes>"
            ]
          },
          "metadata": {
            "tags": []
          }
        }
      ]
    },
    {
      "cell_type": "code",
      "metadata": {
        "id": "vYhoNgDEPavO",
        "colab_type": "code",
        "outputId": "c45e0b87-5cbe-4af8-bd57-70823708a42c",
        "colab": {
          "base_uri": "https://localhost:8080/",
          "height": 300
        }
      },
      "source": [
        "n, bins, patches = plt.hist(x=cust_df[\"Annual Income (k$)\"], bins='auto', color='#0504aa',\n",
        "                            alpha=0.7, rwidth=0.85)\n",
        "plt.grid(axis='y', alpha=0.75)\n",
        "plt.xlabel('Annual Income (k$)')\n",
        "plt.ylabel('Frequency')\n",
        "maxfreq = n.max()\n",
        "# Set a clean upper y-axis limit.\n",
        "plt.ylim(ymax=np.ceil(maxfreq / 10) * 10 if maxfreq % 10 else maxfreq + 10)"
      ],
      "execution_count": 0,
      "outputs": [
        {
          "output_type": "execute_result",
          "data": {
            "text/plain": [
              "(0.0, 40.0)"
            ]
          },
          "metadata": {
            "tags": []
          },
          "execution_count": 42
        },
        {
          "output_type": "display_data",
          "data": {
            "image/png": "[encoded data removed]",
            "text/plain": [
              "<Figure size 432x288 with 1 Axes>"
            ]
          },
          "metadata": {
            "tags": []
          }
        }
      ]
    },
    {
      "cell_type": "code",
      "metadata": {
        "id": "z6_UetX4QCnr",
        "colab_type": "code",
        "outputId": "098809bb-91e7-4bc1-94e2-89ca2a357f97",
        "colab": {
          "base_uri": "https://localhost:8080/",
          "height": 282
        }
      },
      "source": [
        "cust_df.boxplot(column=\"Spending Score (1-100)\",vert=False)"
      ],
      "execution_count": 0,
      "outputs": [
        {
          "output_type": "execute_result",
          "data": {
            "text/plain": [
              "<matplotlib.axes._subplots.AxesSubplot at 0x7f9d77b24d30>"
            ]
          },
          "metadata": {
            "tags": []
          },
          "execution_count": 44
        },
        {
          "output_type": "display_data",
          "data": {
            "image/png": "[encoded data removed]",
            "text/plain": [
              "<Figure size 432x288 with 1 Axes>"
            ]
          },
          "metadata": {
            "tags": []
          }
        }
      ]
    },
    {
      "cell_type": "code",
      "metadata": {
        "id": "G9zHp9EXRuyl",
        "colab_type": "code",
        "outputId": "fc1f04d0-365c-412a-de44-5f587c01afc3",
        "colab": {
          "base_uri": "https://localhost:8080/",
          "height": 1000
        }
      },
      "source": [
        "X= cust_df.values[:, 2:]\n",
        "from sklearn.preprocessing import StandardScaler\n",
        "\n",
        "Clus_dataSet = StandardScaler().fit_transform(X)\n",
        "Clus_dataSet"
      ],
      "execution_count": 0,
      "outputs": [
        {
          "output_type": "execute_result",
          "data": {
            "text/plain": [
              "array([[-1.42456879, -1.73899919, -0.43480148],\n",
              "       [-1.28103541, -1.73899919,  1.19570407],\n",
              "       [-1.3528021 , -1.70082976, -1.71591298],\n",
              "       [-1.13750203, -1.70082976,  1.04041783],\n",
              "       [-0.56336851, -1.66266033, -0.39597992],\n",
              "       [-1.20926872, -1.66266033,  1.00159627],\n",
              "       [-0.27630176, -1.62449091, -1.71591298],\n",
              "       [-1.13750203, -1.62449091,  1.70038436],\n",
              "       [ 1.80493225, -1.58632148, -1.83237767],\n",
              "       [-0.6351352 , -1.58632148,  0.84631002],\n",
              "       [ 2.02023231, -1.58632148, -1.4053405 ],\n",
              "       [-0.27630176, -1.58632148,  1.89449216],\n",
              "       [ 1.37433211, -1.54815205, -1.36651894],\n",
              "       [-1.06573534, -1.54815205,  1.04041783],\n",
              "       [-0.13276838, -1.54815205, -1.44416206],\n",
              "       [-1.20926872, -1.54815205,  1.11806095],\n",
              "       [-0.27630176, -1.50998262, -0.59008772],\n",
              "       [-1.3528021 , -1.50998262,  0.61338066],\n",
              "       [ 0.94373197, -1.43364376, -0.82301709],\n",
              "       [-0.27630176, -1.43364376,  1.8556706 ],\n",
              "       [-0.27630176, -1.39547433, -0.59008772],\n",
              "       [-0.99396865, -1.39547433,  0.88513158],\n",
              "       [ 0.51313183, -1.3573049 , -1.75473454],\n",
              "       [-0.56336851, -1.3573049 ,  0.88513158],\n",
              "       [ 1.08726535, -1.24279661, -1.4053405 ],\n",
              "       [-0.70690189, -1.24279661,  1.23452563],\n",
              "       [ 0.44136514, -1.24279661, -0.7065524 ],\n",
              "       [-0.27630176, -1.24279661,  0.41927286],\n",
              "       [ 0.08253169, -1.20462718, -0.74537397],\n",
              "       [-1.13750203, -1.20462718,  1.42863343],\n",
              "       [ 1.51786549, -1.16645776, -1.7935561 ],\n",
              "       [-1.28103541, -1.16645776,  0.88513158],\n",
              "       [ 1.01549866, -1.05194947, -1.7935561 ],\n",
              "       [-1.49633548, -1.05194947,  1.62274124],\n",
              "       [ 0.7284319 , -1.05194947, -1.4053405 ],\n",
              "       [-1.28103541, -1.05194947,  1.19570407],\n",
              "       [ 0.22606507, -1.01378004, -1.28887582],\n",
              "       [-0.6351352 , -1.01378004,  0.88513158],\n",
              "       [-0.20453507, -0.89927175, -0.93948177],\n",
              "       [-1.3528021 , -0.89927175,  0.96277471],\n",
              "       [ 1.87669894, -0.86110232, -0.59008772],\n",
              "       [-1.06573534, -0.86110232,  1.62274124],\n",
              "       [ 0.65666521, -0.82293289, -0.55126616],\n",
              "       [-0.56336851, -0.82293289,  0.41927286],\n",
              "       [ 0.7284319 , -0.82293289, -0.86183865],\n",
              "       [-1.06573534, -0.82293289,  0.5745591 ],\n",
              "       [ 0.80019859, -0.78476346,  0.18634349],\n",
              "       [-0.85043527, -0.78476346, -0.12422899],\n",
              "       [-0.70690189, -0.78476346, -0.3183368 ],\n",
              "       [-0.56336851, -0.78476346, -0.3183368 ],\n",
              "       [ 0.7284319 , -0.70842461,  0.06987881],\n",
              "       [-0.41983513, -0.70842461,  0.38045129],\n",
              "       [-0.56336851, -0.67025518,  0.14752193],\n",
              "       [ 1.4460988 , -0.67025518,  0.38045129],\n",
              "       [ 0.80019859, -0.67025518, -0.20187212],\n",
              "       [ 0.58489852, -0.67025518, -0.35715836],\n",
              "       [ 0.87196528, -0.63208575, -0.00776431],\n",
              "       [ 2.16376569, -0.63208575, -0.16305055],\n",
              "       [-0.85043527, -0.55574689,  0.03105725],\n",
              "       [ 1.01549866, -0.55574689, -0.16305055],\n",
              "       [ 2.23553238, -0.55574689,  0.22516505],\n",
              "       [-1.42456879, -0.55574689,  0.18634349],\n",
              "       [ 2.02023231, -0.51757746,  0.06987881],\n",
              "       [ 1.08726535, -0.51757746,  0.34162973],\n",
              "       [ 1.73316556, -0.47940803,  0.03105725],\n",
              "       [-1.49633548, -0.47940803,  0.34162973],\n",
              "       [ 0.29783176, -0.47940803, -0.00776431],\n",
              "       [ 2.091999  , -0.47940803, -0.08540743],\n",
              "       [-1.42456879, -0.47940803,  0.34162973],\n",
              "       [-0.49160182, -0.47940803, -0.12422899],\n",
              "       [ 2.23553238, -0.4412386 ,  0.18634349],\n",
              "       [ 0.58489852, -0.4412386 , -0.3183368 ],\n",
              "       [ 1.51786549, -0.40306917, -0.04658587],\n",
              "       [ 1.51786549, -0.40306917,  0.22516505],\n",
              "       [ 1.4460988 , -0.25039146, -0.12422899],\n",
              "       [-0.92220196, -0.25039146,  0.14752193],\n",
              "       [ 0.44136514, -0.25039146,  0.10870037],\n",
              "       [ 0.08253169, -0.25039146, -0.08540743],\n",
              "       [-1.13750203, -0.25039146,  0.06987881],\n",
              "       [ 0.7284319 , -0.25039146, -0.3183368 ],\n",
              "       [ 1.30256542, -0.25039146,  0.03105725],\n",
              "       [-0.06100169, -0.25039146,  0.18634349],\n",
              "       [ 2.02023231, -0.25039146, -0.35715836],\n",
              "       [ 0.51313183, -0.25039146, -0.24069368],\n",
              "       [-1.28103541, -0.25039146,  0.26398661],\n",
              "       [ 0.65666521, -0.25039146, -0.16305055],\n",
              "       [ 1.15903204, -0.13588317,  0.30280817],\n",
              "       [-1.20926872, -0.13588317,  0.18634349],\n",
              "       [-0.34806844, -0.09771374,  0.38045129],\n",
              "       [ 0.80019859, -0.09771374, -0.16305055],\n",
              "       [ 2.091999  , -0.05954431,  0.18634349],\n",
              "       [-1.49633548, -0.05954431, -0.35715836],\n",
              "       [ 0.65666521, -0.02137488, -0.04658587],\n",
              "       [ 0.08253169, -0.02137488, -0.39597992],\n",
              "       [-0.49160182, -0.02137488, -0.3183368 ],\n",
              "       [-1.06573534, -0.02137488,  0.06987881],\n",
              "       [ 0.58489852, -0.02137488, -0.12422899],\n",
              "       [-0.85043527, -0.02137488, -0.00776431],\n",
              "       [ 0.65666521,  0.01679455, -0.3183368 ],\n",
              "       [-1.3528021 ,  0.01679455, -0.04658587],\n",
              "       [-1.13750203,  0.05496398, -0.35715836],\n",
              "       [ 0.7284319 ,  0.05496398, -0.08540743],\n",
              "       [ 2.02023231,  0.05496398,  0.34162973],\n",
              "       [-0.92220196,  0.05496398,  0.18634349],\n",
              "       [ 0.7284319 ,  0.05496398,  0.22516505],\n",
              "       [-1.28103541,  0.05496398, -0.3183368 ],\n",
              "       [ 1.94846562,  0.09313341, -0.00776431],\n",
              "       [ 1.08726535,  0.09313341, -0.16305055],\n",
              "       [ 2.091999  ,  0.09313341, -0.27951524],\n",
              "       [ 1.94846562,  0.09313341, -0.08540743],\n",
              "       [ 1.87669894,  0.09313341,  0.06987881],\n",
              "       [-1.42456879,  0.09313341,  0.14752193],\n",
              "       [-0.06100169,  0.13130284, -0.3183368 ],\n",
              "       [-1.42456879,  0.13130284, -0.16305055],\n",
              "       [-1.49633548,  0.16947227, -0.08540743],\n",
              "       [-1.42456879,  0.16947227, -0.00776431],\n",
              "       [ 1.73316556,  0.16947227, -0.27951524],\n",
              "       [ 0.7284319 ,  0.16947227,  0.34162973],\n",
              "       [ 0.87196528,  0.24581112, -0.27951524],\n",
              "       [ 0.80019859,  0.24581112,  0.26398661],\n",
              "       [-0.85043527,  0.24581112,  0.22516505],\n",
              "       [-0.06100169,  0.24581112, -0.39597992],\n",
              "       [ 0.08253169,  0.32214998,  0.30280817],\n",
              "       [ 0.010765  ,  0.32214998,  1.58391968],\n",
              "       [-1.13750203,  0.36031941, -0.82301709],\n",
              "       [-0.56336851,  0.36031941,  1.04041783],\n",
              "       [ 0.29783176,  0.39848884, -0.59008772],\n",
              "       [ 0.08253169,  0.39848884,  1.73920592],\n",
              "       [ 1.4460988 ,  0.39848884, -1.52180518],\n",
              "       [-0.06100169,  0.39848884,  0.96277471],\n",
              "       [ 0.58489852,  0.39848884, -1.5994483 ],\n",
              "       [ 0.010765  ,  0.39848884,  0.96277471],\n",
              "       [-0.99396865,  0.43665827, -0.62890928],\n",
              "       [-0.56336851,  0.43665827,  0.80748846],\n",
              "       [-1.3528021 ,  0.4748277 , -1.75473454],\n",
              "       [-0.70690189,  0.4748277 ,  1.46745499],\n",
              "       [ 0.36959845,  0.4748277 , -1.67709142],\n",
              "       [-0.49160182,  0.4748277 ,  0.88513158],\n",
              "       [-1.42456879,  0.51299713, -1.56062674],\n",
              "       [-0.27630176,  0.51299713,  0.84631002],\n",
              "       [ 1.30256542,  0.55116656, -1.75473454],\n",
              "       [-0.49160182,  0.55116656,  1.6615628 ],\n",
              "       [-0.77866858,  0.58933599, -0.39597992],\n",
              "       [-0.49160182,  0.58933599,  1.42863343],\n",
              "       [-0.99396865,  0.62750542, -1.48298362],\n",
              "       [-0.77866858,  0.62750542,  1.81684904],\n",
              "       [ 0.65666521,  0.62750542, -0.55126616],\n",
              "       [-0.49160182,  0.62750542,  0.92395314],\n",
              "       [-0.34806844,  0.66567484, -1.09476801],\n",
              "       [-0.34806844,  0.66567484,  1.54509812],\n",
              "       [ 0.29783176,  0.66567484, -1.28887582],\n",
              "       [ 0.010765  ,  0.66567484,  1.46745499],\n",
              "       [ 0.36959845,  0.66567484, -1.17241113],\n",
              "       [-0.06100169,  0.66567484,  1.00159627],\n",
              "       [ 0.58489852,  0.66567484, -1.32769738],\n",
              "       [-0.85043527,  0.66567484,  1.50627656],\n",
              "       [-0.13276838,  0.66567484, -1.91002079],\n",
              "       [-0.6351352 ,  0.66567484,  1.07923939],\n",
              "       [-0.34806844,  0.66567484, -1.91002079],\n",
              "       [-0.6351352 ,  0.66567484,  0.88513158],\n",
              "       [ 1.23079873,  0.70384427, -0.59008772],\n",
              "       [-0.70690189,  0.70384427,  1.27334719],\n",
              "       [-1.42456879,  0.78018313, -1.75473454],\n",
              "       [-0.56336851,  0.78018313,  1.6615628 ],\n",
              "       [ 0.80019859,  0.93286085, -0.93948177],\n",
              "       [-0.20453507,  0.93286085,  0.96277471],\n",
              "       [ 0.22606507,  0.97103028, -1.17241113],\n",
              "       [-0.41983513,  0.97103028,  1.73920592],\n",
              "       [-0.20453507,  1.00919971, -0.90066021],\n",
              "       [-0.49160182,  1.00919971,  0.49691598],\n",
              "       [ 0.08253169,  1.00919971, -1.44416206],\n",
              "       [-0.77866858,  1.00919971,  0.96277471],\n",
              "       [-0.20453507,  1.00919971, -1.56062674],\n",
              "       [-0.20453507,  1.00919971,  1.62274124],\n",
              "       [ 0.94373197,  1.04736914, -1.44416206],\n",
              "       [-0.6351352 ,  1.04736914,  1.38981187],\n",
              "       [ 1.37433211,  1.04736914, -1.36651894],\n",
              "       [-0.85043527,  1.04736914,  0.72984534],\n",
              "       [ 1.4460988 ,  1.23821628, -1.4053405 ],\n",
              "       [-0.27630176,  1.23821628,  1.54509812],\n",
              "       [-0.13276838,  1.390894  , -0.7065524 ],\n",
              "       [-0.49160182,  1.390894  ,  1.38981187],\n",
              "       [ 0.51313183,  1.42906343, -1.36651894],\n",
              "       [-0.70690189,  1.42906343,  1.46745499],\n",
              "       [ 0.15429838,  1.46723286, -0.43480148],\n",
              "       [-0.6351352 ,  1.46723286,  1.81684904],\n",
              "       [ 1.08726535,  1.54357172, -1.01712489],\n",
              "       [-0.77866858,  1.54357172,  0.69102378],\n",
              "       [ 0.15429838,  1.61991057, -1.28887582],\n",
              "       [-0.20453507,  1.61991057,  1.35099031],\n",
              "       [-0.34806844,  1.61991057, -1.05594645],\n",
              "       [-0.49160182,  1.61991057,  0.72984534],\n",
              "       [-0.41983513,  2.00160487, -1.63826986],\n",
              "       [-0.06100169,  2.00160487,  1.58391968],\n",
              "       [ 0.58489852,  2.26879087, -1.32769738],\n",
              "       [-0.27630176,  2.26879087,  1.11806095],\n",
              "       [ 0.44136514,  2.49780745, -0.86183865],\n",
              "       [-0.49160182,  2.49780745,  0.92395314],\n",
              "       [-0.49160182,  2.91767117, -1.25005425],\n",
              "       [-0.6351352 ,  2.91767117,  1.27334719]])"
            ]
          },
          "metadata": {
            "tags": []
          },
          "execution_count": 46
        }
      ]
    },
    {
      "cell_type": "code",
      "metadata": {
        "id": "W1MHmVwFUuWt",
        "colab_type": "code",
        "outputId": "d499edf1-6cfc-47a1-88e3-d50a434fd864",
        "colab": {
          "base_uri": "https://localhost:8080/",
          "height": 279
        }
      },
      "source": [
        "from matplotlib import style \n",
        "from sklearn.cluster import KMeans \n",
        "from sklearn.datasets.samples_generator import make_blobs \n",
        "cost =[] \n",
        "for i in range(1, 11): \n",
        "    KM = KMeans(n_clusters = i, max_iter = 500) \n",
        "    KM.fit(X) \n",
        "    cost.append(KM.inertia_)      \n",
        "plt.plot(range(1, 11), cost, color ='g', linewidth ='3') \n",
        "plt.xlabel(\"Value of K\") \n",
        "plt.ylabel(\"Sqaured Error (Cost)\") \n",
        "plt.show() # clear the plot "
      ],
      "execution_count": 0,
      "outputs": [
        {
          "output_type": "display_data",
          "data": {
            "image/png": "[encoded data removed]",
            "text/plain": [
              "<Figure size 432x288 with 1 Axes>"
            ]
          },
          "metadata": {
            "tags": []
          }
        }
      ]
    },
    {
      "cell_type": "code",
      "metadata": {
        "id": "8ctPl2C2VV68",
        "colab_type": "code",
        "colab": {}
      },
      "source": [
        "optimalK = 5\n",
        "k_means = KMeans(init = \"k-means++\", n_clusters = optimalK, n_init = 12)\n",
        "k_means.fit(X)\n",
        "labels = k_means.labels_"
      ],
      "execution_count": 0,
      "outputs": []
    },
    {
      "cell_type": "code",
      "metadata": {
        "id": "uaAh8t7qZVUC",
        "colab_type": "code",
        "outputId": "fbaa03e6-2062-4c12-bd42-e65488c75372",
        "colab": {
          "base_uri": "https://localhost:8080/",
          "height": 343
        }
      },
      "source": [
        "cust_df[\"Clus_km\"] = labels\n",
        "cust_df.head(10)"
      ],
      "execution_count": 0,
      "outputs": [
        {
          "output_type": "execute_result",
          "data": {
            "text/html": [
              "<div>\n",
              "<style scoped>\n",
              "    .dataframe tbody tr th:only-of-type {\n",
              "        vertical-align: middle;\n",
              "    }\n",
              "\n",
              "    .dataframe tbody tr th {\n",
              "        vertical-align: top;\n",
              "    }\n",
              "\n",
              "    .dataframe thead th {\n",
              "        text-align: right;\n",
              "    }\n",
              "</style>\n",
              "<table border=\"1\" class=\"dataframe\">\n",
              "  <thead>\n",
              "    <tr style=\"text-align: right;\">\n",
              "      <th></th>\n",
              "      <th>CustomerID</th>\n",
              "      <th>Gender</th>\n",
              "      <th>Age</th>\n",
              "      <th>Annual Income (k$)</th>\n",
              "      <th>Spending Score (1-100)</th>\n",
              "      <th>Clus_km</th>\n",
              "    </tr>\n",
              "  </thead>\n",
              "  <tbody>\n",
              "    <tr>\n",
              "      <th>0</th>\n",
              "      <td>1</td>\n",
              "      <td>Male</td>\n",
              "      <td>19</td>\n",
              "      <td>15</td>\n",
              "      <td>39</td>\n",
              "      <td>0</td>\n",
              "    </tr>\n",
              "    <tr>\n",
              "      <th>1</th>\n",
              "      <td>2</td>\n",
              "      <td>Male</td>\n",
              "      <td>21</td>\n",
              "      <td>15</td>\n",
              "      <td>81</td>\n",
              "      <td>4</td>\n",
              "    </tr>\n",
              "    <tr>\n",
              "      <th>2</th>\n",
              "      <td>3</td>\n",
              "      <td>Female</td>\n",
              "      <td>20</td>\n",
              "      <td>16</td>\n",
              "      <td>6</td>\n",
              "      <td>0</td>\n",
              "    </tr>\n",
              "    <tr>\n",
              "      <th>3</th>\n",
              "      <td>4</td>\n",
              "      <td>Female</td>\n",
              "      <td>23</td>\n",
              "      <td>16</td>\n",
              "      <td>77</td>\n",
              "      <td>4</td>\n",
              "    </tr>\n",
              "    <tr>\n",
              "      <th>4</th>\n",
              "      <td>5</td>\n",
              "      <td>Female</td>\n",
              "      <td>31</td>\n",
              "      <td>17</td>\n",
              "      <td>40</td>\n",
              "      <td>0</td>\n",
              "    </tr>\n",
              "    <tr>\n",
              "      <th>5</th>\n",
              "      <td>6</td>\n",
              "      <td>Female</td>\n",
              "      <td>22</td>\n",
              "      <td>17</td>\n",
              "      <td>76</td>\n",
              "      <td>4</td>\n",
              "    </tr>\n",
              "    <tr>\n",
              "      <th>6</th>\n",
              "      <td>7</td>\n",
              "      <td>Female</td>\n",
              "      <td>35</td>\n",
              "      <td>18</td>\n",
              "      <td>6</td>\n",
              "      <td>0</td>\n",
              "    </tr>\n",
              "    <tr>\n",
              "      <th>7</th>\n",
              "      <td>8</td>\n",
              "      <td>Female</td>\n",
              "      <td>23</td>\n",
              "      <td>18</td>\n",
              "      <td>94</td>\n",
              "      <td>4</td>\n",
              "    </tr>\n",
              "    <tr>\n",
              "      <th>8</th>\n",
              "      <td>9</td>\n",
              "      <td>Male</td>\n",
              "      <td>64</td>\n",
              "      <td>19</td>\n",
              "      <td>3</td>\n",
              "      <td>0</td>\n",
              "    </tr>\n",
              "    <tr>\n",
              "      <th>9</th>\n",
              "      <td>10</td>\n",
              "      <td>Female</td>\n",
              "      <td>30</td>\n",
              "      <td>19</td>\n",
              "      <td>72</td>\n",
              "      <td>4</td>\n",
              "    </tr>\n",
              "  </tbody>\n",
              "</table>\n",
              "</div>"
            ],
            "text/plain": [
              "   CustomerID  Gender  Age  Annual Income (k$)  Spending Score (1-100)  Clus_km\n",
              "0           1    Male   19                  15                      39        0\n",
              "1           2    Male   21                  15                      81        4\n",
              "2           3  Female   20                  16                       6        0\n",
              "3           4  Female   23                  16                      77        4\n",
              "4           5  Female   31                  17                      40        0\n",
              "5           6  Female   22                  17                      76        4\n",
              "6           7  Female   35                  18                       6        0\n",
              "7           8  Female   23                  18                      94        4\n",
              "8           9    Male   64                  19                       3        0\n",
              "9          10  Female   30                  19                      72        4"
            ]
          },
          "metadata": {
            "tags": []
          },
          "execution_count": 85
        }
      ]
    },
    {
      "cell_type": "code",
      "metadata": {
        "id": "0yNb1O_zZ93V",
        "colab_type": "code",
        "outputId": "e4b969c1-f9cd-49a7-ff08-c18ff7cc0017",
        "colab": {
          "base_uri": "https://localhost:8080/",
          "height": 282
        }
      },
      "source": [
        "y_kmeans = k_means.predict(X)\n",
        "plt.scatter( X[:, 1],X[:,2], c=y_kmeans, s=50, cmap='viridis')\n",
        "\n",
        "centers = k_means.cluster_centers_\n",
        "plt.scatter(centers[:, 0], centers[:, 1], c='black', s=200, alpha=0.5)\n"
      ],
      "execution_count": 0,
      "outputs": [
        {
          "output_type": "execute_result",
          "data": {
            "text/plain": [
              "<matplotlib.collections.PathCollection at 0x7f9d72a3f3c8>"
            ]
          },
          "metadata": {
            "tags": []
          },
          "execution_count": 88
        },
        {
          "output_type": "display_data",
          "data": {
            "image/png": "[encoded data removed]",
            "text/plain": [
              "<Figure size 432x288 with 1 Axes>"
            ]
          },
          "metadata": {
            "tags": []
          }
        }
      ]
    }
  ]
}